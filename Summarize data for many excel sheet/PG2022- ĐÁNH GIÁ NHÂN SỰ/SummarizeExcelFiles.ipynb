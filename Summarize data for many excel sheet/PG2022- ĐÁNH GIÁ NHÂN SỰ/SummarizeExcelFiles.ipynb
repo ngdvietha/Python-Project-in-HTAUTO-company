{
 "cells": [
  {
   "cell_type": "code",
   "execution_count": 29,
   "metadata": {},
   "outputs": [],
   "source": [
    "from pathlib import Path\n",
    "import pandas as pd\n",
    "\n",
    "list_emp_path = []\n",
    "\n",
    "for path in Path('D:/Code linh tinh/Nối PĐG nhân sự 2022/PG2022- ĐÁNH GIÁ NHÂN SỰ').rglob('*.xlsx'):\n",
    "    list_emp_path.append(path)"
   ]
  },
  {
   "cell_type": "code",
   "execution_count": 26,
   "metadata": {},
   "outputs": [
    {
     "name": "stdout",
     "output_type": "stream",
     "text": [
      "SALE ADMIN- LÝ THỊ THU TRANG.xlsx\n"
     ]
    }
   ],
   "source": [
    "\n",
    "\n",
    "x = Path(list_emp_path[0].name)\n",
    "\n",
    "print(str(x))"
   ]
  },
  {
   "cell_type": "code",
   "execution_count": 30,
   "metadata": {},
   "outputs": [],
   "source": [
    "a = 0 \n",
    "for i in list_emp_path:\n",
    "    df3 = pd.ExcelFile(i)\n",
    "    list_sheets = df3.sheet_names\n",
    "\n",
    "    for j in list_sheets:\n",
    "        if a == 0:\n",
    "            df = pd.read_excel(i, j, skiprows=2, nrows=36, usecols='F:K')\n",
    "            df['Nhân viên review'] = str(Path(i.name))\n",
    "            df['Nhân viên được review'] = j\n",
    "            a = a + 1\n",
    "        else:\n",
    "            df2 = pd.read_excel(i, j, skiprows=2, nrows=36, usecols='F:K')\n",
    "            df2['Nhân viên review'] = str(Path(i.name))\n",
    "            df2['Nhân viên được review'] = j\n",
    "            df = pd.concat([df, df2], ignore_index=True)"
   ]
  },
  {
   "cell_type": "code",
   "execution_count": 40,
   "metadata": {},
   "outputs": [],
   "source": [
    "cols = ['Unnamed: 5', 'Unnamed: 6']\n",
    "df.loc[:,cols] = df.loc[:,cols].ffill(axis=0)\n",
    "\n",
    "df.to_excel('result.xlsx', index=False)"
   ]
  }
 ],
 "metadata": {
  "kernelspec": {
   "display_name": "base",
   "language": "python",
   "name": "python3"
  },
  "language_info": {
   "codemirror_mode": {
    "name": "ipython",
    "version": 3
   },
   "file_extension": ".py",
   "mimetype": "text/x-python",
   "name": "python",
   "nbconvert_exporter": "python",
   "pygments_lexer": "ipython3",
   "version": "3.9.12 (main, Apr  4 2022, 05:22:27) [MSC v.1916 64 bit (AMD64)]"
  },
  "orig_nbformat": 4,
  "vscode": {
   "interpreter": {
    "hash": "1cca9558bc5ad879ec93cc030b157d75f18267527c60932cecaace349eef54dd"
   }
  }
 },
 "nbformat": 4,
 "nbformat_minor": 2
}
